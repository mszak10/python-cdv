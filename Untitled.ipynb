{
 "cells": [
  {
   "cell_type": "code",
   "execution_count": 1,
   "id": "1235ab69",
   "metadata": {},
   "outputs": [
    {
     "data": {
      "text/plain": [
       "2"
      ]
     },
     "execution_count": 1,
     "metadata": {},
     "output_type": "execute_result"
    }
   ],
   "source": [
    "a = 2\n",
    "a"
   ]
  },
  {
   "cell_type": "code",
   "execution_count": 5,
   "id": "f865df80",
   "metadata": {},
   "outputs": [
    {
     "data": {
      "text/plain": [
       "True"
      ]
     },
     "execution_count": 5,
     "metadata": {},
     "output_type": "execute_result"
    }
   ],
   "source": [
    "0.1 + 0.2 == 0.30000000000000004"
   ]
  },
  {
   "cell_type": "code",
   "execution_count": 7,
   "id": "5fdfef07",
   "metadata": {},
   "outputs": [
    {
     "name": "stdout",
     "output_type": "stream",
     "text": [
      "1\n"
     ]
    }
   ],
   "source": [
    "a = 1\n",
    "b = 4\n",
    "c = 4\n",
    "\n",
    "delta = b ** 2 - 4 * a * c\n",
    "\n",
    "if delta > 0: print(\"2\")\n",
    "elif delta < 0: print(\"0\")\n",
    "else: print(\"1\")"
   ]
  },
  {
   "cell_type": "code",
   "execution_count": 24,
   "id": "dbea34c7",
   "metadata": {},
   "outputs": [
    {
     "name": "stdout",
     "output_type": "stream",
     "text": [
      "44 + 91 = ?\n",
      "Jaki jest wynik?: 523\n",
      "Wynik: 135\n",
      "Otóż nie tym razem\n"
     ]
    }
   ],
   "source": [
    "a = random.randrange(0,100)\n",
    "b = random.randrange(0,100)\n",
    "znaki : {0:\"+\", 1:\"-\", 2:\"*\"}\n",
    "znak = random.randrange(0,2)\n",
    "\n",
    "if znak == 0:\n",
    "    wynik = a + b\n",
    "    print(f\"{a} + {b} = ?\")\n",
    "elif znak == 0:\n",
    "    wynik = a - b\n",
    "    print(f\"{a} - {b} = ?\")\n",
    "else:\n",
    "    wynik = a * b\n",
    "    print(f\"{a} * {b} = ?\")\n",
    "    \n",
    "guess = int(input(\"Jaki jest wynik?: \"))\n",
    "print(f\"Wynik: {wynik}\")\n",
    "if guess == wynik:\n",
    "    print(\"Brawo!\")\n",
    "else:\n",
    "    print(\"Otóż nie tym razem\")"
   ]
  },
  {
   "cell_type": "code",
   "execution_count": 32,
   "id": "2a315791",
   "metadata": {},
   "outputs": [
    {
     "name": "stdout",
     "output_type": "stream",
     "text": [
      "Ile pkt zdobyłeś?: 19\n",
      "38.0%\n",
      "Szmata\n"
     ]
    }
   ],
   "source": [
    "max_pkt = 50\n",
    "zdobyte_pkt = int(input(\"Ile pkt zdobyłeś?: \"))\n",
    "\n",
    "procent = zdobyte_pkt / max_pkt *100\n",
    "print(f\"{procent}%\")\n",
    "if procent < 40:\n",
    "    print(\"Szmata\")\n",
    "elif procent < 50:\n",
    "    print(\"Dwa\")\n",
    "elif procent < 70:\n",
    "    print(\"Trója\")\n",
    "elif procent < 85:\n",
    "    print(\"Cztery\")\n",
    "elif procent < 100:\n",
    "    print(\"Bdb\")\n",
    "else:\n",
    "    print(\"Sześć\")"
   ]
  },
  {
   "cell_type": "code",
   "execution_count": 37,
   "id": "7a0bb86d",
   "metadata": {},
   "outputs": [
    {
     "name": "stdout",
     "output_type": "stream",
     "text": [
      "1 Kot\n",
      "2 Kot\n",
      "3 Kot\n",
      "4 Kot\n",
      "5 Kot\n",
      "6 Kot\n",
      "7 Kot\n",
      "8 Kot\n",
      "9 Kot\n",
      "10 Kot\n"
     ]
    }
   ],
   "source": [
    "n = 0\n",
    "while n<10:\n",
    "    print(f\"{n+1} Kot\")\n",
    "    n += 1"
   ]
  },
  {
   "cell_type": "code",
   "execution_count": 40,
   "id": "5c3c65f8",
   "metadata": {},
   "outputs": [
    {
     "name": "stdout",
     "output_type": "stream",
     "text": [
      "13\n",
      "26\n",
      "39\n",
      "52\n",
      "65\n",
      "78\n",
      "91\n"
     ]
    }
   ],
   "source": [
    "for i in range(1,100):\n",
    "    if i%13==0:\n",
    "        print(i)"
   ]
  },
  {
   "cell_type": "code",
   "execution_count": 1,
   "id": "489dfd5a",
   "metadata": {},
   "outputs": [
    {
     "name": "stdout",
     "output_type": "stream",
     "text": [
      "10\n",
      "9\n",
      "8\n",
      "7\n",
      "6\n",
      "5\n",
      "4\n",
      "3\n",
      "2\n",
      "1\n",
      "jeb\n"
     ]
    }
   ],
   "source": [
    "import time\n",
    "\n",
    "for i in range(10,0,-1):\n",
    "    print(i)\n",
    "    time.sleep(1)\n",
    "print(\"jeb\")"
   ]
  },
  {
   "cell_type": "code",
   "execution_count": 3,
   "id": "7bd92ba0",
   "metadata": {},
   "outputs": [
    {
     "name": "stdout",
     "output_type": "stream",
     "text": [
      "Dawaj kurwa zdanie: siema kurwa\n",
      "awruk ameis\n"
     ]
    }
   ],
   "source": [
    "zdanie = input(\"Dawaj kurwa zdanie: \")\n",
    "reverse = \"\"\n",
    "\n",
    "for i in range(len(zdanie), 0, -1):\n",
    "    reverse += (zdanie[i-1:][0])\n",
    "    \n",
    "print(reverse)"
   ]
  },
  {
   "cell_type": "code",
   "execution_count": 6,
   "id": "85559410",
   "metadata": {},
   "outputs": [
    {
     "name": "stdout",
     "output_type": "stream",
     "text": [
      "3\n",
      "2\n",
      "9\n"
     ]
    }
   ],
   "source": [
    "liczba = int(input())\n",
    "wyk = int(input())\n",
    "wynik = 1\n",
    "\n",
    "for i in range(0,wyk):\n",
    "    wynik = liczba * wynik\n",
    "    \n",
    "print(wynik)"
   ]
  },
  {
   "cell_type": "code",
   "execution_count": null,
   "id": "27e2251d",
   "metadata": {},
   "outputs": [],
   "source": []
  }
 ],
 "metadata": {
  "kernelspec": {
   "display_name": "Python 3 (ipykernel)",
   "language": "python",
   "name": "python3"
  },
  "language_info": {
   "codemirror_mode": {
    "name": "ipython",
    "version": 3
   },
   "file_extension": ".py",
   "mimetype": "text/x-python",
   "name": "python",
   "nbconvert_exporter": "python",
   "pygments_lexer": "ipython3",
   "version": "3.9.13"
  }
 },
 "nbformat": 4,
 "nbformat_minor": 5
}
